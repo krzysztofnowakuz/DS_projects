{
 "cells": [
  {
   "cell_type": "code",
   "execution_count": 1,
   "metadata": {},
   "outputs": [],
   "source": [
    "import numpy as np\n",
    "import pandas as pd\n",
    "import matplotlib.pyplot as plt\n",
    "from sklearn.preprocessing import StandardScaler\n",
    "from sklearn.model_selection import train_test_split"
   ]
  },
  {
   "cell_type": "code",
   "execution_count": 2,
   "metadata": {},
   "outputs": [],
   "source": [
    "df = pd.read_csv('houses.txt', sep=\" \", header=None)\n",
    "df.columns = [\"LP\",\"MHV\",\"MINC\",\"HAGE\",\"TROOMS\",\"TBEDR\",\"POP\",\"HHDS\",\"LATI\",\"LONGI\"]\n",
    "df = df.drop('LP', 1)"
   ]
  },
  {
   "cell_type": "code",
   "execution_count": 3,
   "metadata": {},
   "outputs": [],
   "source": [
    "df2 = df[['MINC', 'HAGE', 'TROOMS', 'TBEDR', 'POP', 'HHDS', 'LATI', 'LONGI']]"
   ]
  },
  {
   "cell_type": "code",
   "execution_count": 4,
   "metadata": {},
   "outputs": [],
   "source": [
    "explain_value = df['MHV'] \n",
    "x_set_train, x_set_test, y_set_train, y_set_test=train_test_split(df2,explain_value,test_size=0.3,random_state=5)"
   ]
  },
  {
   "cell_type": "code",
   "execution_count": 5,
   "metadata": {},
   "outputs": [],
   "source": [
    "standarize = StandardScaler()\n",
    "x_set_train_std = standarize.fit_transform(x_set_train)\n",
    "x_set_test_std = standarize.fit_transform(x_set_test)"
   ]
  },
  {
   "cell_type": "markdown",
   "metadata": {},
   "source": [
    "### Obliczenie macierzy składowych głównych przy wykorzystaniu macierzy kowariancji "
   ]
  },
  {
   "cell_type": "code",
   "execution_count": 6,
   "metadata": {},
   "outputs": [
    {
     "name": "stdout",
     "output_type": "stream",
     "text": [
      "Wartości własne obliczone na podstawie macierzy kowariancji [3.91697335 1.90666497 1.07624029 0.8152021  0.14144202 0.01541898\n",
      " 0.04660908 0.08200296]\n"
     ]
    }
   ],
   "source": [
    "cov_matrix = np.cov(x_set_train_std.T)\n",
    "eigen_values_cov, eigen_vectors_cov = np.linalg.eig(cov_matrix)\n",
    "print(\"Wartości własne obliczone na podstawie macierzy kowariancji\", eigen_values_cov)"
   ]
  },
  {
   "cell_type": "code",
   "execution_count": 7,
   "metadata": {},
   "outputs": [
    {
     "data": {
      "text/html": [
       "<div>\n",
       "<style scoped>\n",
       "    .dataframe tbody tr th:only-of-type {\n",
       "        vertical-align: middle;\n",
       "    }\n",
       "\n",
       "    .dataframe tbody tr th {\n",
       "        vertical-align: top;\n",
       "    }\n",
       "\n",
       "    .dataframe thead th {\n",
       "        text-align: right;\n",
       "    }\n",
       "</style>\n",
       "<table border=\"1\" class=\"dataframe\">\n",
       "  <thead>\n",
       "    <tr style=\"text-align: right;\">\n",
       "      <th></th>\n",
       "      <th>0</th>\n",
       "      <th>1</th>\n",
       "      <th>2</th>\n",
       "      <th>3</th>\n",
       "      <th>4</th>\n",
       "      <th>5</th>\n",
       "      <th>6</th>\n",
       "      <th>7</th>\n",
       "    </tr>\n",
       "  </thead>\n",
       "  <tbody>\n",
       "    <tr>\n",
       "      <th>0</th>\n",
       "      <td>1.000069</td>\n",
       "      <td>-0.127017</td>\n",
       "      <td>0.202688</td>\n",
       "      <td>-0.005630</td>\n",
       "      <td>0.009778</td>\n",
       "      <td>0.017222</td>\n",
       "      <td>-0.074745</td>\n",
       "      <td>-0.022002</td>\n",
       "    </tr>\n",
       "    <tr>\n",
       "      <th>1</th>\n",
       "      <td>-0.127017</td>\n",
       "      <td>1.000069</td>\n",
       "      <td>-0.364447</td>\n",
       "      <td>-0.322602</td>\n",
       "      <td>-0.303829</td>\n",
       "      <td>-0.305652</td>\n",
       "      <td>0.010872</td>\n",
       "      <td>-0.107382</td>\n",
       "    </tr>\n",
       "    <tr>\n",
       "      <th>2</th>\n",
       "      <td>0.202688</td>\n",
       "      <td>-0.364447</td>\n",
       "      <td>1.000069</td>\n",
       "      <td>0.929138</td>\n",
       "      <td>0.860473</td>\n",
       "      <td>0.916248</td>\n",
       "      <td>-0.037384</td>\n",
       "      <td>0.045506</td>\n",
       "    </tr>\n",
       "    <tr>\n",
       "      <th>3</th>\n",
       "      <td>-0.005630</td>\n",
       "      <td>-0.322602</td>\n",
       "      <td>0.929138</td>\n",
       "      <td>1.000069</td>\n",
       "      <td>0.883321</td>\n",
       "      <td>0.978372</td>\n",
       "      <td>-0.068287</td>\n",
       "      <td>0.070117</td>\n",
       "    </tr>\n",
       "    <tr>\n",
       "      <th>4</th>\n",
       "      <td>0.009778</td>\n",
       "      <td>-0.303829</td>\n",
       "      <td>0.860473</td>\n",
       "      <td>0.883321</td>\n",
       "      <td>1.000069</td>\n",
       "      <td>0.913670</td>\n",
       "      <td>-0.113865</td>\n",
       "      <td>0.103536</td>\n",
       "    </tr>\n",
       "    <tr>\n",
       "      <th>5</th>\n",
       "      <td>0.017222</td>\n",
       "      <td>-0.305652</td>\n",
       "      <td>0.916248</td>\n",
       "      <td>0.978372</td>\n",
       "      <td>0.913670</td>\n",
       "      <td>1.000069</td>\n",
       "      <td>-0.073390</td>\n",
       "      <td>0.056162</td>\n",
       "    </tr>\n",
       "    <tr>\n",
       "      <th>6</th>\n",
       "      <td>-0.074745</td>\n",
       "      <td>0.010872</td>\n",
       "      <td>-0.037384</td>\n",
       "      <td>-0.068287</td>\n",
       "      <td>-0.113865</td>\n",
       "      <td>-0.073390</td>\n",
       "      <td>1.000069</td>\n",
       "      <td>-0.925053</td>\n",
       "    </tr>\n",
       "    <tr>\n",
       "      <th>7</th>\n",
       "      <td>-0.022002</td>\n",
       "      <td>-0.107382</td>\n",
       "      <td>0.045506</td>\n",
       "      <td>0.070117</td>\n",
       "      <td>0.103536</td>\n",
       "      <td>0.056162</td>\n",
       "      <td>-0.925053</td>\n",
       "      <td>1.000069</td>\n",
       "    </tr>\n",
       "  </tbody>\n",
       "</table>\n",
       "</div>"
      ],
      "text/plain": [
       "          0         1         2         3         4         5         6  \\\n",
       "0  1.000069 -0.127017  0.202688 -0.005630  0.009778  0.017222 -0.074745   \n",
       "1 -0.127017  1.000069 -0.364447 -0.322602 -0.303829 -0.305652  0.010872   \n",
       "2  0.202688 -0.364447  1.000069  0.929138  0.860473  0.916248 -0.037384   \n",
       "3 -0.005630 -0.322602  0.929138  1.000069  0.883321  0.978372 -0.068287   \n",
       "4  0.009778 -0.303829  0.860473  0.883321  1.000069  0.913670 -0.113865   \n",
       "5  0.017222 -0.305652  0.916248  0.978372  0.913670  1.000069 -0.073390   \n",
       "6 -0.074745  0.010872 -0.037384 -0.068287 -0.113865 -0.073390  1.000069   \n",
       "7 -0.022002 -0.107382  0.045506  0.070117  0.103536  0.056162 -0.925053   \n",
       "\n",
       "          7  \n",
       "0 -0.022002  \n",
       "1 -0.107382  \n",
       "2  0.045506  \n",
       "3  0.070117  \n",
       "4  0.103536  \n",
       "5  0.056162  \n",
       "6 -0.925053  \n",
       "7  1.000069  "
      ]
     },
     "execution_count": 7,
     "metadata": {},
     "output_type": "execute_result"
    }
   ],
   "source": [
    "cov_matrix = pd.DataFrame(cov_matrix)\n",
    "cov_matrix  "
   ]
  },
  {
   "cell_type": "code",
   "execution_count": 8,
   "metadata": {},
   "outputs": [
    {
     "name": "stdout",
     "output_type": "stream",
     "text": [
      "Wartości całkowitej wariancji wyjaśnionej przez składowe [0.48958778 0.72790441 0.86242513 0.96431834 0.98199737 0.99224703\n",
      " 0.99807276 1.        ]\n"
     ]
    }
   ],
   "source": [
    "t = sum(eigen_values_cov) #Wyjaśniona wariancja całkowita \n",
    "variance_explained_cov = [(i / t) for i in sorted(eigen_values_cov, reverse=True)]\n",
    "total_variance_cov = np.cumsum(variance_explained_cov)\n",
    "print(\"Wartości całkowitej wariancji wyjaśnionej przez składowe\", total_variance_cov)"
   ]
  },
  {
   "cell_type": "code",
   "execution_count": 9,
   "metadata": {},
   "outputs": [
    {
     "data": {
      "image/png": "[encoded data removed]",
      "text/plain": [
       "<Figure size 432x288 with 1 Axes>"
      ]
     },
     "metadata": {
      "needs_background": "light"
     },
     "output_type": "display_data"
    }
   ],
   "source": [
    "plt.bar(range(1, 9), variance_explained_cov, alpha=0.5, align=\"center\",label=\"% wariancji wyjaśnionej przez daną składową\")\n",
    "plt.step(range(1, 9), total_variance_cov, where=\"mid\",label=\"Całkowita wariancja wyjaśniona\")\n",
    "plt.ylabel(\"Współczynnik wariancji wyjaśnionej\")\n",
    "plt.xlabel(\"Numer składowej głównej określonej na podstawie macierzy kowariancji\")\n",
    "plt.legend(loc=\"best\")\n",
    "plt.tight_layout()\n",
    "plt.show()"
   ]
  },
  {
   "cell_type": "code",
   "execution_count": 10,
   "metadata": {},
   "outputs": [],
   "source": [
    "pairs_cov = [(np.abs(eigen_values_cov[i]), eigen_vectors_cov[:, i]) for i in range(len(eigen_values_cov))] \n",
    "pairs_cov.sort(key=lambda k: k[0], reverse=True)"
   ]
  },
  {
   "cell_type": "code",
   "execution_count": 11,
   "metadata": {},
   "outputs": [
    {
     "name": "stdout",
     "output_type": "stream",
     "text": [
      "Macierz rzutowania na podstawie macierzy kowariancji:\n",
      "\n"
     ]
    },
    {
     "data": {
      "text/html": [
       "<div>\n",
       "<style scoped>\n",
       "    .dataframe tbody tr th:only-of-type {\n",
       "        vertical-align: middle;\n",
       "    }\n",
       "\n",
       "    .dataframe tbody tr th {\n",
       "        vertical-align: top;\n",
       "    }\n",
       "\n",
       "    .dataframe thead th {\n",
       "        text-align: right;\n",
       "    }\n",
       "</style>\n",
       "<table border=\"1\" class=\"dataframe\">\n",
       "  <thead>\n",
       "    <tr style=\"text-align: right;\">\n",
       "      <th></th>\n",
       "      <th>0</th>\n",
       "      <th>1</th>\n",
       "      <th>2</th>\n",
       "      <th>3</th>\n",
       "      <th>4</th>\n",
       "      <th>5</th>\n",
       "      <th>6</th>\n",
       "      <th>7</th>\n",
       "    </tr>\n",
       "  </thead>\n",
       "  <tbody>\n",
       "    <tr>\n",
       "      <th>0</th>\n",
       "      <td>0.048021</td>\n",
       "      <td>-0.024216</td>\n",
       "      <td>-0.886773</td>\n",
       "      <td>-0.416608</td>\n",
       "      <td>0.058494</td>\n",
       "      <td>-0.057530</td>\n",
       "      <td>-0.168602</td>\n",
       "      <td>-0.044962</td>\n",
       "    </tr>\n",
       "    <tr>\n",
       "      <th>1</th>\n",
       "      <td>-0.220391</td>\n",
       "      <td>0.012122</td>\n",
       "      <td>0.402555</td>\n",
       "      <td>-0.882024</td>\n",
       "      <td>-0.035220</td>\n",
       "      <td>0.089749</td>\n",
       "      <td>-0.044218</td>\n",
       "      <td>-0.003595</td>\n",
       "    </tr>\n",
       "    <tr>\n",
       "      <th>2</th>\n",
       "      <td>0.482752</td>\n",
       "      <td>0.076992</td>\n",
       "      <td>-0.089393</td>\n",
       "      <td>-0.117580</td>\n",
       "      <td>-0.350745</td>\n",
       "      <td>0.552020</td>\n",
       "      <td>0.532856</td>\n",
       "      <td>0.165898</td>\n",
       "    </tr>\n",
       "    <tr>\n",
       "      <th>3</th>\n",
       "      <td>0.489588</td>\n",
       "      <td>0.061281</td>\n",
       "      <td>0.122083</td>\n",
       "      <td>-0.062926</td>\n",
       "      <td>-0.374933</td>\n",
       "      <td>-0.252414</td>\n",
       "      <td>-0.213682</td>\n",
       "      <td>-0.698382</td>\n",
       "    </tr>\n",
       "    <tr>\n",
       "      <th>4</th>\n",
       "      <td>0.473191</td>\n",
       "      <td>0.024952</td>\n",
       "      <td>0.116389</td>\n",
       "      <td>-0.078539</td>\n",
       "      <td>0.837698</td>\n",
       "      <td>0.178709</td>\n",
       "      <td>-0.017919</td>\n",
       "      <td>-0.147500</td>\n",
       "    </tr>\n",
       "    <tr>\n",
       "      <th>5</th>\n",
       "      <td>0.490822</td>\n",
       "      <td>0.064265</td>\n",
       "      <td>0.113166</td>\n",
       "      <td>-0.096744</td>\n",
       "      <td>-0.101495</td>\n",
       "      <td>-0.421029</td>\n",
       "      <td>-0.297377</td>\n",
       "      <td>0.675868</td>\n",
       "    </tr>\n",
       "    <tr>\n",
       "      <th>6</th>\n",
       "      <td>-0.074964</td>\n",
       "      <td>0.701872</td>\n",
       "      <td>-0.004843</td>\n",
       "      <td>0.101116</td>\n",
       "      <td>-0.068892</td>\n",
       "      <td>0.448266</td>\n",
       "      <td>-0.533324</td>\n",
       "      <td>0.037227</td>\n",
       "    </tr>\n",
       "    <tr>\n",
       "      <th>7</th>\n",
       "      <td>0.077071</td>\n",
       "      <td>-0.701574</td>\n",
       "      <td>0.048078</td>\n",
       "      <td>0.070243</td>\n",
       "      <td>-0.122293</td>\n",
       "      <td>0.458314</td>\n",
       "      <td>-0.516560</td>\n",
       "      <td>0.052601</td>\n",
       "    </tr>\n",
       "  </tbody>\n",
       "</table>\n",
       "</div>"
      ],
      "text/plain": [
       "          0         1         2         3         4         5         6  \\\n",
       "0  0.048021 -0.024216 -0.886773 -0.416608  0.058494 -0.057530 -0.168602   \n",
       "1 -0.220391  0.012122  0.402555 -0.882024 -0.035220  0.089749 -0.044218   \n",
       "2  0.482752  0.076992 -0.089393 -0.117580 -0.350745  0.552020  0.532856   \n",
       "3  0.489588  0.061281  0.122083 -0.062926 -0.374933 -0.252414 -0.213682   \n",
       "4  0.473191  0.024952  0.116389 -0.078539  0.837698  0.178709 -0.017919   \n",
       "5  0.490822  0.064265  0.113166 -0.096744 -0.101495 -0.421029 -0.297377   \n",
       "6 -0.074964  0.701872 -0.004843  0.101116 -0.068892  0.448266 -0.533324   \n",
       "7  0.077071 -0.701574  0.048078  0.070243 -0.122293  0.458314 -0.516560   \n",
       "\n",
       "          7  \n",
       "0 -0.044962  \n",
       "1 -0.003595  \n",
       "2  0.165898  \n",
       "3 -0.698382  \n",
       "4 -0.147500  \n",
       "5  0.675868  \n",
       "6  0.037227  \n",
       "7  0.052601  "
      ]
     },
     "execution_count": 11,
     "metadata": {},
     "output_type": "execute_result"
    }
   ],
   "source": [
    "projection_matrix_cov = np.hstack((pairs_cov[0][1][:, np.newaxis], pairs_cov[1][1][:, np.newaxis], pairs_cov[2][1][:, np.newaxis],\n",
    "pairs_cov[3][1][:, np.newaxis], pairs_cov[4][1][:, np.newaxis], pairs_cov[5][1][:, np.newaxis], pairs_cov[6][1][:, np.newaxis], pairs_cov[7][1][:, np.newaxis]))\n",
    "print(\"Macierz rzutowania na podstawie macierzy kowariancji:\\n\")\n",
    "projection_matrix_cov = pd.DataFrame(projection_matrix_cov)\n",
    "projection_matrix_cov"
   ]
  },
  {
   "cell_type": "code",
   "execution_count": 12,
   "metadata": {},
   "outputs": [],
   "source": [
    "x_set_train_pca_cov = x_set_train_std.dot(projection_matrix_cov)"
   ]
  },
  {
   "cell_type": "code",
   "execution_count": 13,
   "metadata": {},
   "outputs": [],
   "source": [
    "x_set_train_pca_cov = pd.DataFrame(x_set_train_pca_cov, columns = [\"PCA_1\",\"PCA_2\",\"PCA_3\",\"PCA_4\",\"PCA_5\",\"PCA_6\",\"PCA_7\",\"PCA_8\"])"
   ]
  },
  {
   "cell_type": "code",
   "execution_count": 14,
   "metadata": {},
   "outputs": [
    {
     "data": {
      "text/html": [
       "<div>\n",
       "<style scoped>\n",
       "    .dataframe tbody tr th:only-of-type {\n",
       "        vertical-align: middle;\n",
       "    }\n",
       "\n",
       "    .dataframe tbody tr th {\n",
       "        vertical-align: top;\n",
       "    }\n",
       "\n",
       "    .dataframe thead th {\n",
       "        text-align: right;\n",
       "    }\n",
       "</style>\n",
       "<table border=\"1\" class=\"dataframe\">\n",
       "  <thead>\n",
       "    <tr style=\"text-align: right;\">\n",
       "      <th></th>\n",
       "      <th>PCA_1</th>\n",
       "      <th>PCA_2</th>\n",
       "      <th>PCA_3</th>\n",
       "      <th>PCA_4</th>\n",
       "      <th>PCA_5</th>\n",
       "      <th>PCA_6</th>\n",
       "      <th>PCA_7</th>\n",
       "      <th>PCA_8</th>\n",
       "    </tr>\n",
       "  </thead>\n",
       "  <tbody>\n",
       "    <tr>\n",
       "      <th>0</th>\n",
       "      <td>-1.399098</td>\n",
       "      <td>1.105726</td>\n",
       "      <td>-1.026103</td>\n",
       "      <td>0.892028</td>\n",
       "      <td>0.051951</td>\n",
       "      <td>-0.288274</td>\n",
       "      <td>0.355947</td>\n",
       "      <td>-0.031276</td>\n",
       "    </tr>\n",
       "    <tr>\n",
       "      <th>1</th>\n",
       "      <td>-0.053400</td>\n",
       "      <td>0.311682</td>\n",
       "      <td>0.753549</td>\n",
       "      <td>-0.444768</td>\n",
       "      <td>-0.229013</td>\n",
       "      <td>0.291368</td>\n",
       "      <td>-0.019465</td>\n",
       "      <td>0.093861</td>\n",
       "    </tr>\n",
       "    <tr>\n",
       "      <th>2</th>\n",
       "      <td>-0.607769</td>\n",
       "      <td>0.250750</td>\n",
       "      <td>-0.174194</td>\n",
       "      <td>0.881742</td>\n",
       "      <td>0.103762</td>\n",
       "      <td>-0.332808</td>\n",
       "      <td>0.410875</td>\n",
       "      <td>0.024438</td>\n",
       "    </tr>\n",
       "    <tr>\n",
       "      <th>3</th>\n",
       "      <td>5.319496</td>\n",
       "      <td>-0.539899</td>\n",
       "      <td>0.400825</td>\n",
       "      <td>-0.107728</td>\n",
       "      <td>0.178530</td>\n",
       "      <td>0.011141</td>\n",
       "      <td>-0.147882</td>\n",
       "      <td>0.038613</td>\n",
       "    </tr>\n",
       "    <tr>\n",
       "      <th>4</th>\n",
       "      <td>-0.936274</td>\n",
       "      <td>-1.262006</td>\n",
       "      <td>-0.121341</td>\n",
       "      <td>-0.320778</td>\n",
       "      <td>0.018983</td>\n",
       "      <td>0.042212</td>\n",
       "      <td>-0.005626</td>\n",
       "      <td>0.046729</td>\n",
       "    </tr>\n",
       "  </tbody>\n",
       "</table>\n",
       "</div>"
      ],
      "text/plain": [
       "      PCA_1     PCA_2     PCA_3     PCA_4     PCA_5     PCA_6     PCA_7  \\\n",
       "0 -1.399098  1.105726 -1.026103  0.892028  0.051951 -0.288274  0.355947   \n",
       "1 -0.053400  0.311682  0.753549 -0.444768 -0.229013  0.291368 -0.019465   \n",
       "2 -0.607769  0.250750 -0.174194  0.881742  0.103762 -0.332808  0.410875   \n",
       "3  5.319496 -0.539899  0.400825 -0.107728  0.178530  0.011141 -0.147882   \n",
       "4 -0.936274 -1.262006 -0.121341 -0.320778  0.018983  0.042212 -0.005626   \n",
       "\n",
       "      PCA_8  \n",
       "0 -0.031276  \n",
       "1  0.093861  \n",
       "2  0.024438  \n",
       "3  0.038613  \n",
       "4  0.046729  "
      ]
     },
     "execution_count": 14,
     "metadata": {},
     "output_type": "execute_result"
    }
   ],
   "source": [
    "x_set_train_pca_cov.head()"
   ]
  }
 ],
 "metadata": {
  "kernelspec": {
   "display_name": "Python 3",
   "language": "python",
   "name": "python3"
  },
  "language_info": {
   "codemirror_mode": {
    "name": "ipython",
    "version": 3
   },
   "file_extension": ".py",
   "mimetype": "text/x-python",
   "name": "python",
   "nbconvert_exporter": "python",
   "pygments_lexer": "ipython3",
   "version": "3.7.6"
  }
 },
 "nbformat": 4,
 "nbformat_minor": 4
}
